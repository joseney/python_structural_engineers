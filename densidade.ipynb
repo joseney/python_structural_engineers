{
 "cells": [
  {
   "cell_type": "code",
   "execution_count": 15,
   "metadata": {},
   "outputs": [
    {
     "name": "stdout",
     "output_type": "stream",
     "text": [
      "19620.0\n",
      "19620.0 Pa\n",
      "19.62 kPa\n"
     ]
    }
   ],
   "source": [
    "\n",
    "densidade = 1000 # kg/m3\n",
    "gravidade = 9.81 # m/s2\n",
    "h = 2 #m\n",
    "\n",
    "p = densidade*gravidade*h\n",
    "print(p)\n",
    "print(str(round(p,2)) + ' Pa')\n",
    "print(str(round(p/1000,2)) + ' kPa')"
   ]
  },
  {
   "cell_type": "code",
   "execution_count": 7,
   "metadata": {},
   "outputs": [
    {
     "name": "stdout",
     "output_type": "stream",
     "text": [
      "1.9378881987577639\n"
     ]
    }
   ],
   "source": [
    "\n",
    "dens = 62.4 # \n",
    "gc = 32.2 \n",
    "\n",
    "p = dens/gc\n",
    "print(p)"
   ]
  },
  {
   "cell_type": "code",
   "execution_count": null,
   "metadata": {},
   "outputs": [],
   "source": []
  }
 ],
 "metadata": {
  "kernelspec": {
   "display_name": "Python 3",
   "language": "python",
   "name": "python3"
  },
  "language_info": {
   "codemirror_mode": {
    "name": "ipython",
    "version": 3
   },
   "file_extension": ".py",
   "mimetype": "text/x-python",
   "name": "python",
   "nbconvert_exporter": "python",
   "pygments_lexer": "ipython3",
   "version": "3.8.5"
  }
 },
 "nbformat": 4,
 "nbformat_minor": 4
}
