{
 "cells": [
  {
   "cell_type": "code",
   "execution_count": 9,
   "metadata": {},
   "outputs": [
    {
     "data": {
      "text/plain": [
       "<bound method NDFrame.head of            x;M_neg;M_pos;T_neg;T_pos;N_neg;N_pos\n",
       "0  0.000;-32.145;0.000;57.936;0.000;-0.073;0.073\n",
       "1  0.069;-28.255;0.000;55.435;0.000;-0.073;0.073\n",
       "2  0.137;-24.536;0.000;52.935;0.000;-0.070;0.070\n",
       "3  0.206;-20.536;0.000;50.435;0.000;-0.067;0.067\n",
       "4  0.275;-17.613;0.000;47.934;0.000;-0.064;0.064>"
      ]
     },
     "execution_count": 9,
     "metadata": {},
     "output_type": "execute_result"
    }
   ],
   "source": [
    "import pandas as pd\n",
    "import sympy as sp\n",
    "import numpy as np\n",
    "\n",
    "df = pd.read_csv('tables/beam_example.csv', header=[0])\n",
    "df = df.round(4)\n",
    "df = df.dropna()\n",
    "#df = df.reset_index(drop=True)\n",
    "#df = df.drop(0)\n",
    "#df = df.reset_index(drop=True)\n",
    "df.head"
   ]
  },
  {
   "cell_type": "code",
   "execution_count": 12,
   "metadata": {},
   "outputs": [],
   "source": [
    "df.to_excel(\"tables/output2.xlsx\")\n",
    "df.to_csv(\"tables/output2.csv\")"
   ]
  }
 ],
 "metadata": {
  "kernelspec": {
   "display_name": "Python 3",
   "language": "python",
   "name": "python3"
  },
  "language_info": {
   "codemirror_mode": {
    "name": "ipython",
    "version": 3
   },
   "file_extension": ".py",
   "mimetype": "text/x-python",
   "name": "python",
   "nbconvert_exporter": "python",
   "pygments_lexer": "ipython3",
   "version": "3.8.5"
  }
 },
 "nbformat": 4,
 "nbformat_minor": 4
}
