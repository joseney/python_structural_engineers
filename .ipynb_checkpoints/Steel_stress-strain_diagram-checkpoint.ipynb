{
 "cells": [
  {
   "cell_type": "code",
   "execution_count": 2,
   "metadata": {},
   "outputs": [],
   "source": [
    "# Concret stress-strain diagram\n",
    "def rel_s(eps):\n",
    "    n = len(eps)\n",
    "    sig =np.zeros(n)\n",
    "    for i in range(n):\n",
    "        if -eps_su <= eps[i] and eps[i] <= -eps_y:\n",
    "            sig[i] = -fyd\n",
    "        elif -eps_y < eps[i] and eps[i] <= eps_y:\n",
    "            sig[i] = eps[i]*Es\n",
    "        elif eps_y < eps[i] and eps[i] <= eps_su:\n",
    "            sig[i] = fyd\n",
    "        else:\n",
    "            print('invalid eps value')\n",
    "    return(sig)        "
   ]
  }
 ],
 "metadata": {
  "kernelspec": {
   "display_name": "Python 3",
   "language": "python",
   "name": "python3"
  },
  "language_info": {
   "codemirror_mode": {
    "name": "ipython",
    "version": 3
   },
   "file_extension": ".py",
   "mimetype": "text/x-python",
   "name": "python",
   "nbconvert_exporter": "python",
   "pygments_lexer": "ipython3",
   "version": "3.8.5"
  }
 },
 "nbformat": 4,
 "nbformat_minor": 4
}
