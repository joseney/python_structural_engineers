{
 "cells": [
  {
   "cell_type": "code",
   "execution_count": 11,
   "metadata": {},
   "outputs": [],
   "source": [
    "import numpy as np\n",
    "import sympy as sp\n",
    "import pandas as pd\n",
    "\n",
    "sp.init_printing(use_latex=\"mathjax\")"
   ]
  },
  {
   "cell_type": "code",
   "execution_count": 17,
   "metadata": {},
   "outputs": [
    {
     "data": {
      "text/latex": [
       "$\\displaystyle 367$"
      ],
      "text/plain": [
       "367"
      ]
     },
     "execution_count": 17,
     "metadata": {},
     "output_type": "execute_result"
    }
   ],
   "source": [
    "b = 250  #mm\n",
    "B = 300  #mm\n",
    "h = 400  #mm\n",
    "tf1 = 18 #mm\n",
    "tf2 = 15 #mm\n",
    "tw = 12  #mm\n",
    "# Altura das peças\n",
    "hw  = h - tf1 - tf2\n",
    "hw"
   ]
  },
  {
   "cell_type": "code",
   "execution_count": 15,
   "metadata": {},
   "outputs": [
    {
     "data": {
      "text/latex": [
       "$\\displaystyle 13404$"
      ],
      "text/plain": [
       "13404"
      ]
     },
     "execution_count": 15,
     "metadata": {},
     "output_type": "execute_result"
    }
   ],
   "source": [
    "# AREA A\n",
    "Af1 = b*tf1\n",
    "Af2 = B*tf2\n",
    "Aw  = hw*tw\n",
    "A   =Af1 + Af2 + Aw\n",
    "A"
   ]
  },
  {
   "cell_type": "code",
   "execution_count": 14,
   "metadata": {},
   "outputs": [
    {
     "data": {
      "text/latex": [
       "$\\displaystyle 200.996418979409$"
      ],
      "text/plain": [
       "200.996418979409"
      ]
     },
     "execution_count": 14,
     "metadata": {},
     "output_type": "execute_result"
    }
   ],
   "source": [
    "# Section centroid yG\n",
    "yG = sp.symbols('yG')\n",
    "Stot = b*tf1*(yG - tf1/2) - B*tf2*(h - yG - tf2/2) + tw*(yG - tf1)**2/2 - tw*(h - yG - tf2)**2/2\n",
    "yG = sp.solveset(Stot, yG).args[0]\n",
    "yG"
   ]
  },
  {
   "cell_type": "code",
   "execution_count": 18,
   "metadata": {},
   "outputs": [
    {
     "data": {
      "text/latex": [
       "$\\displaystyle 1064910.02156307$"
      ],
      "text/plain": [
       "1064910.02156307"
      ]
     },
     "execution_count": 18,
     "metadata": {},
     "output_type": "execute_result"
    }
   ],
   "source": [
    "# first moment of area about the \"x\" axis \"Sx\"\n",
    "Sx = b*tf1*(yG - tf1/2) + tw*(yG - tf1)*(yG - tf1)/2\n",
    "Sx"
   ]
  },
  {
   "cell_type": "code",
   "execution_count": 19,
   "metadata": {},
   "outputs": [
    {
     "data": {
      "text/latex": [
       "$\\displaystyle 315981.0$"
      ],
      "text/plain": [
       "315981.0"
      ]
     },
     "execution_count": 19,
     "metadata": {},
     "output_type": "execute_result"
    }
   ],
   "source": [
    "# first moment of area about the \"y\" axis \"Sy\"\n",
    "Sy = tf1*(b/2)*(b/4) + tf2*(B/2)*(B/4) + hw*(tw/2)*(tw/4)\n",
    "Sy"
   ]
  },
  {
   "cell_type": "code",
   "execution_count": 25,
   "metadata": {},
   "outputs": [
    {
     "data": {
      "text/latex": [
       "$\\displaystyle 380550963.828111$"
      ],
      "text/plain": [
       "380550963.828111"
      ]
     },
     "execution_count": 25,
     "metadata": {},
     "output_type": "execute_result"
    }
   ],
   "source": [
    "Ix_f1 = (b*tf1**3)/12 + Af1*(yG - tf1/2)**2\n",
    "Ix_f2 = (B*tf2**3)/12 + Af2*(h - yG - tf2/2)**2\n",
    "Ix_w =  (tw*hw**3)/12 + Aw*(tf1 + hw/2 - yG)**2\n",
    "Ix = Ix_f1 + Ix_f2 + Ix_w\n",
    "Ix"
   ]
  },
  {
   "cell_type": "code",
   "execution_count": 27,
   "metadata": {},
   "outputs": [
    {
     "data": {
      "text/latex": [
       "$\\displaystyle 57240348.0$"
      ],
      "text/plain": [
       "57240348.0"
      ]
     },
     "execution_count": 27,
     "metadata": {},
     "output_type": "execute_result"
    }
   ],
   "source": [
    "Iy_f1 = (tf1*b**3)/12\n",
    "Iy_f2 = (tf2*B**3)/12\n",
    "Iy_w  = (hw*tw**3)/12\n",
    "\n",
    "Iy = Iy_f1 + Iy_f2 + Iy_w\n",
    "Iy"
   ]
  },
  {
   "cell_type": "code",
   "execution_count": 28,
   "metadata": {},
   "outputs": [
    {
     "data": {
      "text/latex": [
       "$\\displaystyle 1893322.10872422$"
      ],
      "text/plain": [
       "1893322.10872422"
      ]
     },
     "execution_count": 28,
     "metadata": {},
     "output_type": "execute_result"
    }
   ],
   "source": [
    "Wx = min(Ix/(yG), Ix/(h-yG))\n",
    "Wx"
   ]
  },
  {
   "cell_type": "code",
   "execution_count": null,
   "metadata": {},
   "outputs": [],
   "source": []
  }
 ],
 "metadata": {
  "kernelspec": {
   "display_name": "Python 3",
   "language": "python",
   "name": "python3"
  },
  "language_info": {
   "codemirror_mode": {
    "name": "ipython",
    "version": 3
   },
   "file_extension": ".py",
   "mimetype": "text/x-python",
   "name": "python",
   "nbconvert_exporter": "python",
   "pygments_lexer": "ipython3",
   "version": "3.8.5"
  }
 },
 "nbformat": 4,
 "nbformat_minor": 4
}
