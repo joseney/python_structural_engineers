{
 "cells": [
  {
   "cell_type": "code",
   "execution_count": null,
   "metadata": {},
   "outputs": [],
   "source": [
    "import numpy as np\n",
    "import matplotlib.pyplot as plt\n"
   ]
  },
  {
   "cell_type": "code",
   "execution_count": null,
   "metadata": {},
   "outputs": [],
   "source": [
    "a = 400 #mm, section height\n",
    "b = 300 #mm, section width\n",
    "c = 50  #mm, concret cover\n",
    "d = a - c\n",
    "\n",
    "As1 = 1017 # mm^2, 4 phi18, bottom rebar area\n",
    "As2 = 452  #mm^2,   4phi12, top rebar area"
   ]
  },
  {
   "cell_type": "code",
   "execution_count": 3,
   "metadata": {},
   "outputs": [
    {
     "data": {
      "text/plain": [
       "0.001956521739130435"
      ]
     },
     "execution_count": 3,
     "metadata": {},
     "output_type": "execute_result"
    }
   ],
   "source": [
    "# Concrete\n",
    "fck = 25 #Mpa\n",
    "gamma_c = 1.5\n",
    "fcd = 0.85*fck/gamma_c # MPa\n",
    "eps_cc = -0.0020\n",
    "eps_cu = -0.0035\n",
    "\n",
    "# stell\n",
    "fyk = 450 #Mpa\n",
    "gamma_s = 1.15\n",
    "fyd = fyk/gamma_s #Mpa\n",
    "Es = 200000 # Mpa\n",
    "eps_su = 0.01\n",
    "eps_y = fyd/Es\n",
    "eps_y"
   ]
  }
 ],
 "metadata": {
  "kernelspec": {
   "display_name": "Python 3",
   "language": "python",
   "name": "python3"
  },
  "language_info": {
   "codemirror_mode": {
    "name": "ipython",
    "version": 3
   },
   "file_extension": ".py",
   "mimetype": "text/x-python",
   "name": "python",
   "nbconvert_exporter": "python",
   "pygments_lexer": "ipython3",
   "version": "3.8.5"
  }
 },
 "nbformat": 4,
 "nbformat_minor": 4
}
