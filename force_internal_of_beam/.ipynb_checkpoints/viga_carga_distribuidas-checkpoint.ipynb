{
 "cells": [
  {
   "cell_type": "code",
   "execution_count": 6,
   "metadata": {},
   "outputs": [
    {
     "ename": "NameError",
     "evalue": "name 'imread' is not defined",
     "output_type": "error",
     "traceback": [
      "\u001b[1;31m---------------------------------------------------------------------------\u001b[0m",
      "\u001b[1;31mNameError\u001b[0m                                 Traceback (most recent call last)",
      "\u001b[1;32m<ipython-input-6-aa71e97fcbe1>\u001b[0m in \u001b[0;36m<module>\u001b[1;34m\u001b[0m\n\u001b[0;32m      3\u001b[0m \u001b[1;32mimport\u001b[0m \u001b[0mmatplotlib\u001b[0m\u001b[1;33m.\u001b[0m\u001b[0mpylab\u001b[0m \u001b[1;32mas\u001b[0m \u001b[0mplt\u001b[0m\u001b[1;33m\u001b[0m\u001b[1;33m\u001b[0m\u001b[0m\n\u001b[0;32m      4\u001b[0m \u001b[1;33m\u001b[0m\u001b[0m\n\u001b[1;32m----> 5\u001b[1;33m \u001b[0mim\u001b[0m \u001b[1;33m=\u001b[0m \u001b[0mimread\u001b[0m\u001b[1;33m(\u001b[0m\u001b[1;34m'Pictures/viga_bi_apoiada_carga_concentrada.png'\u001b[0m\u001b[1;33m)\u001b[0m\u001b[1;33m\u001b[0m\u001b[1;33m\u001b[0m\u001b[0m\n\u001b[0m\u001b[0;32m      6\u001b[0m \u001b[1;33m\u001b[0m\u001b[0m\n\u001b[0;32m      7\u001b[0m \u001b[0mplt\u001b[0m\u001b[1;33m.\u001b[0m\u001b[0mfigure\u001b[0m\u001b[1;33m(\u001b[0m\u001b[0mfigsize\u001b[0m\u001b[1;33m=\u001b[0m\u001b[1;33m(\u001b[0m\u001b[1;36m20\u001b[0m\u001b[1;33m,\u001b[0m\u001b[1;36m10\u001b[0m\u001b[1;33m)\u001b[0m\u001b[1;33m)\u001b[0m\u001b[1;33m\u001b[0m\u001b[1;33m\u001b[0m\u001b[0m\n",
      "\u001b[1;31mNameError\u001b[0m: name 'imread' is not defined"
     ]
    }
   ],
   "source": [
    "%matplotlib inline\n",
    "import numpy as np\n",
    "import matplotlib.pylab as plt\n",
    "\n",
    "im = imread('Pictures/viga_bi_apoiada_carga_concentrada.png')\n",
    "\n",
    "plt.figure(figsize=(20,10))\n",
    "plt.subplot(121), plt.imshow(im), plt.axis('off'), plt.title('Original image', size=20)\n",
    "plt.show()"
   ]
  },
  {
   "cell_type": "code",
   "execution_count": 14,
   "metadata": {},
   "outputs": [
    {
     "name": "stdout",
     "output_type": "stream",
     "text": [
      "[50.         48.94736842 47.89473684 46.84210526 45.78947368 44.73684211\n",
      " 43.68421053 42.63157895 41.57894737 40.52631579 39.47368421 38.42105263\n",
      " 37.36842105 36.31578947 35.26315789 34.21052632 33.15789474 32.10526316\n",
      " 31.05263158 30.        ]\n",
      "[ 0.          2.60387812  5.15235457  7.64542936 10.08310249 12.46537396\n",
      " 14.79224377 17.06371191 19.27977839 21.44044321 23.54570637 25.59556787\n",
      " 27.5900277  29.52908587 31.41274238 33.24099723 35.01385042 36.73130194\n",
      " 38.3933518  40.        ]\n"
     ]
    },
    {
     "data": {
      "text/plain": [
       "[<matplotlib.lines.Line2D at 0x1f4937a4880>]"
      ]
     },
     "execution_count": 14,
     "metadata": {},
     "output_type": "execute_result"
    },
    {
     "data": {
      "image/png": "[encoded data removed]",
      "text/plain": [
       "<Figure size 720x288 with 1 Axes>"
      ]
     },
     "metadata": {
      "needs_background": "light"
     },
     "output_type": "display_data"
    }
   ],
   "source": [
    "# Import module\n",
    "import numpy as np\n",
    "l = 5 #m\n",
    "q = 20 #kN/m\n",
    "\n",
    "# The equilibrium equations are:\n",
    "# Ha = 0\n",
    "# Va+Vb -ql=0\n",
    "# VbL-q^2/2 = 0\n",
    "#solving the sistem we obtain\n",
    "# Ha=0 , Va = q*L/2 , Vb = q*l\n",
    "# So the bending moment M and the shear V of the beam will be equal to\n",
    "# M= Va.x - q*x^2/2\n",
    "#  =q/2(l*x-X^2)\n",
    "# V = Va-q*x\n",
    "#   = q*(L/2 - x)\n",
    "## SOLUTION\n",
    "x = np.linspace(0,1,20)\n",
    "\n",
    "M = q/2*(l*x-x**2)\n",
    "V = q*(l/2-x)\n",
    "\n",
    "print(V)\n",
    "# [ 0. 2.60387812  5.15235457  7.64542936 10.08310249 12.46537396  14.79224377 17.06371191 19.27977839 21.44044321 23.54570637 25.59556787  27.5900277  29.52908587 31.41274238 33.24099723 35.01385042 36.73130194 38.3933518  40. ]\n",
    "\n",
    "print(M)\n",
    "# [50. 48.94736842 47.89473684 46.84210526 45.78947368 44.73684211\n",
    "#  43.68421053 42.63157895 41.57894737 40.52631579 39.47368421 38.42105263 37.36842105 36.31578947 35.26315789 34.21052632 33.15789474 32.10526316 31.05263158 30. ]\n",
    "\n",
    "from matplotlib import pyplot as plt\n",
    "plt.figure(figsize=(10,4))\n",
    "plt.plot([0]*len(x), color= 'k')\n",
    "plt.plot(-M)\n",
    "plt.plot(V)"
   ]
  }
 ],
 "metadata": {
  "kernelspec": {
   "display_name": "Python 3",
   "language": "python",
   "name": "python3"
  },
  "language_info": {
   "codemirror_mode": {
    "name": "ipython",
    "version": 3
   },
   "file_extension": ".py",
   "mimetype": "text/x-python",
   "name": "python",
   "nbconvert_exporter": "python",
   "pygments_lexer": "ipython3",
   "version": "3.8.5"
  }
 },
 "nbformat": 4,
 "nbformat_minor": 4
}
