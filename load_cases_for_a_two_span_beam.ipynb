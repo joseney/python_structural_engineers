{
 "cells": [
  {
   "cell_type": "code",
   "execution_count": 21,
   "metadata": {},
   "outputs": [],
   "source": [
    "import pandas as pd\n",
    "import sympy as sp\n",
    "import numpy as np\n",
    "\n",
    "def solve_beam (l1,l2,q1,q2):\n",
    "    l = l1 + l2            # total length\n",
    "    Mx = sp.symbols ('Mx') # create symbol Mx\n",
    "    \n",
    "    # calculate Mx\n",
    "    Mx = sp.solveset(Mx*l1/3 + q1*l1**3/24 + Mx*12/3 + q2*l2**3/24,Mx).args[0]\n",
    "    \n",
    "    # Sove equilibrium equations\n",
    "    Va, Vb1, Vb2, Vc = sp.symbols('Va Vb1 Vb2 Vc')\n",
    "    Va, Vb1 = sp.linsolve([Va + Vb1 - q1*l1, Vb1*l1 + Mx - (q1*l1**2)/2], (Va, Vb1)).args[0]\n",
    "    \n",
    "    Vc, Vb2 = sp.linsolve([Vb2 + Vc - q2*l2, Vb2*l2 + Mx - (q2*l2**2)/2], (Vc, Vb2)).args[0]\n",
    "\n",
    "    Vb = Vb1 + Vb2\n",
    "    \n",
    "    x1 = np.arange(0,l1 + 0.1,0.1) # Create axis x1\n",
    "    x2 = np.arange(0,l2 + 0.1,0.1) # Create axis x2\n",
    "    \n",
    "    beam1 = pd.DataFrame ( {\"x\":x1} ) # Create a  dataframe for the first span\n",
    "    beam2 = pd.DataFrame ( {\"x\":x2} ) # Create a  dataframe for the second span\n",
    "    \n",
    "    beam1[\"M\"] = Va*beam1.x - (q1*beam1*x**2)/2  # Calcule M and store it\n",
    "    beam2[\"M\"] = Mx - (q2*beam2.x**2)/2 + Vb2*beam2.x # Calcule M and store it\n",
    "    \n",
    "    beam1[\"V\"] = Va - q1*beam1.x  # Calculate V and store it\n",
    "    beam2[\"V\"] = Vb2 - q2*beam2.x # Calculate V and store it\n",
    "    \n",
    "    beam2.x = beam2.x + l1 # re-assign x for the second span\n",
    "    \n",
    "    beam = pd.concat([beam1, beam2]) # concatenate the two dataframes\n",
    "    \n",
    "    return (beam)\n",
    "\n"
   ]
  },
  {
   "cell_type": "code",
   "execution_count": 22,
   "metadata": {},
   "outputs": [
    {
     "ename": "NameError",
     "evalue": "name 'x' is not defined",
     "output_type": "error",
     "traceback": [
      "\u001b[1;31m---------------------------------------------------------------------------\u001b[0m",
      "\u001b[1;31mNameError\u001b[0m                                 Traceback (most recent call last)",
      "\u001b[1;32m<ipython-input-22-8acccb73ee90>\u001b[0m in \u001b[0;36m<module>\u001b[1;34m\u001b[0m\n\u001b[0;32m      2\u001b[0m                                     (\"combo 2\", \"M\"), (\"combo 2\", \"V\")])\n\u001b[0;32m      3\u001b[0m \u001b[0mcombos\u001b[0m \u001b[1;33m=\u001b[0m \u001b[0mpd\u001b[0m\u001b[1;33m.\u001b[0m\u001b[0mDataFrame\u001b[0m\u001b[1;33m(\u001b[0m\u001b[0mcolumns\u001b[0m\u001b[1;33m=\u001b[0m\u001b[0mheader\u001b[0m\u001b[1;33m)\u001b[0m\u001b[1;33m\u001b[0m\u001b[1;33m\u001b[0m\u001b[0m\n\u001b[1;32m----> 4\u001b[1;33m \u001b[0mcombos\u001b[0m\u001b[1;33m[\u001b[0m\u001b[1;34m\"x\"\u001b[0m\u001b[1;33m]\u001b[0m \u001b[1;33m=\u001b[0m \u001b[0msolve_beam\u001b[0m\u001b[1;33m(\u001b[0m\u001b[1;36m4\u001b[0m\u001b[1;33m,\u001b[0m\u001b[1;36m5\u001b[0m\u001b[1;33m,\u001b[0m\u001b[1;36m3.2\u001b[0m\u001b[1;33m,\u001b[0m\u001b[1;36m4.5\u001b[0m\u001b[1;33m)\u001b[0m\u001b[1;33m[\u001b[0m\u001b[1;34m\"x\"\u001b[0m\u001b[1;33m]\u001b[0m\u001b[1;33m\u001b[0m\u001b[1;33m\u001b[0m\u001b[0m\n\u001b[0m\u001b[0;32m      5\u001b[0m \u001b[1;33m\u001b[0m\u001b[0m\n\u001b[0;32m      6\u001b[0m \u001b[0mcombos\u001b[0m\u001b[1;33m[\u001b[0m\u001b[1;34m\"combo 1\"\u001b[0m\u001b[1;33m]\u001b[0m \u001b[1;33m=\u001b[0m \u001b[0msolve_beam\u001b[0m\u001b[1;33m(\u001b[0m\u001b[1;36m4\u001b[0m\u001b[1;33m,\u001b[0m\u001b[1;36m5\u001b[0m\u001b[1;33m,\u001b[0m\u001b[1;36m3.2\u001b[0m\u001b[1;33m,\u001b[0m\u001b[1;36m4.5\u001b[0m\u001b[1;33m)\u001b[0m\u001b[1;33m\u001b[0m\u001b[1;33m\u001b[0m\u001b[0m\n",
      "\u001b[1;32m<ipython-input-21-22208560b76d>\u001b[0m in \u001b[0;36msolve_beam\u001b[1;34m(l1, l2, q1, q2)\u001b[0m\n\u001b[0;32m     24\u001b[0m     \u001b[0mbeam2\u001b[0m \u001b[1;33m=\u001b[0m \u001b[0mpd\u001b[0m\u001b[1;33m.\u001b[0m\u001b[0mDataFrame\u001b[0m \u001b[1;33m(\u001b[0m \u001b[1;33m{\u001b[0m\u001b[1;34m\"x\"\u001b[0m\u001b[1;33m:\u001b[0m\u001b[0mx2\u001b[0m\u001b[1;33m}\u001b[0m \u001b[1;33m)\u001b[0m \u001b[1;31m# Create a  dataframe for the second span\u001b[0m\u001b[1;33m\u001b[0m\u001b[1;33m\u001b[0m\u001b[0m\n\u001b[0;32m     25\u001b[0m \u001b[1;33m\u001b[0m\u001b[0m\n\u001b[1;32m---> 26\u001b[1;33m     \u001b[0mbeam1\u001b[0m\u001b[1;33m[\u001b[0m\u001b[1;34m\"M\"\u001b[0m\u001b[1;33m]\u001b[0m \u001b[1;33m=\u001b[0m \u001b[0mVa\u001b[0m\u001b[1;33m*\u001b[0m\u001b[0mbeam1\u001b[0m\u001b[1;33m.\u001b[0m\u001b[0mx\u001b[0m \u001b[1;33m-\u001b[0m \u001b[1;33m(\u001b[0m\u001b[0mq1\u001b[0m\u001b[1;33m*\u001b[0m\u001b[0mbeam1\u001b[0m\u001b[1;33m*\u001b[0m\u001b[0mx\u001b[0m\u001b[1;33m**\u001b[0m\u001b[1;36m2\u001b[0m\u001b[1;33m)\u001b[0m\u001b[1;33m/\u001b[0m\u001b[1;36m2\u001b[0m  \u001b[1;31m# Calcule M and store it\u001b[0m\u001b[1;33m\u001b[0m\u001b[1;33m\u001b[0m\u001b[0m\n\u001b[0m\u001b[0;32m     27\u001b[0m     \u001b[0mbeam2\u001b[0m\u001b[1;33m[\u001b[0m\u001b[1;34m\"M\"\u001b[0m\u001b[1;33m]\u001b[0m \u001b[1;33m=\u001b[0m \u001b[0mMx\u001b[0m \u001b[1;33m-\u001b[0m \u001b[1;33m(\u001b[0m\u001b[0mq2\u001b[0m\u001b[1;33m*\u001b[0m\u001b[0mbeam2\u001b[0m\u001b[1;33m.\u001b[0m\u001b[0mx\u001b[0m\u001b[1;33m**\u001b[0m\u001b[1;36m2\u001b[0m\u001b[1;33m)\u001b[0m\u001b[1;33m/\u001b[0m\u001b[1;36m2\u001b[0m \u001b[1;33m+\u001b[0m \u001b[0mVb2\u001b[0m\u001b[1;33m*\u001b[0m\u001b[0mbeam2\u001b[0m\u001b[1;33m.\u001b[0m\u001b[0mx\u001b[0m \u001b[1;31m# Calcule M and store it\u001b[0m\u001b[1;33m\u001b[0m\u001b[1;33m\u001b[0m\u001b[0m\n\u001b[0;32m     28\u001b[0m \u001b[1;33m\u001b[0m\u001b[0m\n",
      "\u001b[1;31mNameError\u001b[0m: name 'x' is not defined"
     ]
    }
   ],
   "source": [
    "header = pd.MultiIndex.from_tuples([(\"combo 1\", \"M\"), (\"combo 1\", \"V\"),\n",
    "                                    (\"combo 2\", \"M\"), (\"combo 2\", \"V\")])\n",
    "combos = pd.DataFrame(columns=header)\n",
    "combos[\"x\"] = solve_beam(4,5,3.2,4.5)[\"x\"]\n",
    "\n",
    "combos[\"combo 1\"] = solve_beam(4,5,3.2,4.5)\n",
    "combos[\"combo 2\"] = solve_beam(4,5,4.5,3.2)\n",
    "combos = combos.set_index(\"x\")\n",
    "\n",
    "combos = combos.astype(\"float\")\n",
    "combos.head()"
   ]
  }
 ],
 "metadata": {
  "kernelspec": {
   "display_name": "Python 3",
   "language": "python",
   "name": "python3"
  },
  "language_info": {
   "codemirror_mode": {
    "name": "ipython",
    "version": 3
   },
   "file_extension": ".py",
   "mimetype": "text/x-python",
   "name": "python",
   "nbconvert_exporter": "python",
   "pygments_lexer": "ipython3",
   "version": "3.8.5"
  }
 },
 "nbformat": 4,
 "nbformat_minor": 4
}
